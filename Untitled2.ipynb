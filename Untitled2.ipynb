{
 "cells": [
  {
   "cell_type": "code",
   "execution_count": 36,
   "id": "2b7c3da7-00e5-4a83-873f-400645725de8",
   "metadata": {},
   "outputs": [
    {
     "name": "stdout",
     "output_type": "stream",
     "text": [
      " x \n",
      " c \n",
      "\n",
      " v\n"
     ]
    }
   ],
   "source": [
    "print(\" x \\n c \\n\\n v\")"
   ]
  },
  {
   "cell_type": "code",
   "execution_count": 3,
   "id": "c95e1520-9a5f-4a17-9121-e73e039f7ed9",
   "metadata": {},
   "outputs": [
    {
     "data": {
      "text/plain": [
       "15"
      ]
     },
     "execution_count": 3,
     "metadata": {},
     "output_type": "execute_result"
    }
   ],
   "source": [
    "cr = \"unidade numeros\"\n",
    "len(cr)"
   ]
  },
  {
   "cell_type": "code",
   "execution_count": 35,
   "id": "b1b0df7d-a1da-4a72-b2fe-accc646e71d3",
   "metadata": {},
   "outputs": [
    {
     "name": "stdout",
     "output_type": "stream",
     "text": [
      "d\n",
      "id zhong\n",
      "dav\n",
      "id zho\n",
      "o\n",
      "ong\n",
      "david zh\n",
      "dvdzog\n",
      "zhong\n",
      "david\n"
     ]
    }
   ],
   "source": [
    "nome=\"david zhong\"\n",
    "print(nome[0])\n",
    "print(nome[3:])\n",
    "print(nome[:3])\n",
    "print(nome[3:9])\n",
    "print(nome[-3])\n",
    "print(nome[-3:])\n",
    "print(nome[:-3])\n",
    "print(nome[::2])\n",
    "sobrenome = (nome[6:])\n",
    "print(sobrenome)\n",
    "primeiro_nome = (nome[0:5])\n",
    "print(primeiro_nome)"
   ]
  },
  {
   "cell_type": "code",
   "execution_count": 38,
   "id": "81d0cb75-ea9e-4aa0-bc18-cec4f692ae7d",
   "metadata": {},
   "outputs": [
    {
     "name": "stdout",
     "output_type": "stream",
     "text": [
      "x \n",
      "c \n",
      "\n",
      "v\n"
     ]
    }
   ],
   "source": [
    "print(\"x \\nc \\n\\nv\")"
   ]
  },
  {
   "cell_type": "code",
   "execution_count": 41,
   "id": "16448432-8125-4e43-b202-ed01d239bf9c",
   "metadata": {},
   "outputs": [
    {
     "name": "stdout",
     "output_type": "stream",
     "text": [
      "5\n",
      "2\n"
     ]
    }
   ],
   "source": [
    "email = \"david@gmail.com\"\n",
    "print(email.find(\"@\"))\n",
    "print(email.count(\"d\"))"
   ]
  },
  {
   "cell_type": "code",
   "execution_count": 47,
   "id": "74d504a7-8cee-4e28-8db5-f281bc6d602d",
   "metadata": {},
   "outputs": [
    {
     "name": "stdout",
     "output_type": "stream",
     "text": [
      "casacaiucaiucaiucaiucaiucaiucaiu\n"
     ]
    }
   ],
   "source": [
    "x = \"casa\"\n",
    "y = \"caiu\"\n",
    "print(x + y * 7)"
   ]
  },
  {
   "cell_type": "code",
   "execution_count": 48,
   "id": "31efeed4-8ddb-4dc1-8952-4477623729d1",
   "metadata": {},
   "outputs": [
    {
     "name": "stdout",
     "output_type": "stream",
     "text": [
      "casa100\n"
     ]
    }
   ],
   "source": [
    "numero = 100\n",
    "print(x+str(numero))"
   ]
  },
  {
   "cell_type": "code",
   "execution_count": 60,
   "id": "14f08c25-f1e1-4fc6-86a7-e6b732782333",
   "metadata": {},
   "outputs": [
    {
     "name": "stdout",
     "output_type": "stream",
     "text": [
      "PLACA DE VIDEO\n",
      "placa de video\n",
      "l\n",
      "placa de video\n",
      "de\n",
      "video\n",
      "placa\n"
     ]
    }
   ],
   "source": [
    "z = \"placa de video\"\n",
    "print(z.upper())\n",
    "print(z.lower())\n",
    "print(z[1])\n",
    "print(z)\n",
    "c = z.split()\n",
    "print(c[1])\n",
    "print(c[2])\n",
    "print(c[0])"
   ]
  },
  {
   "cell_type": "code",
   "execution_count": 61,
   "id": "c2679e6b-6e9a-4c6b-b9b3-2d3f127226ce",
   "metadata": {},
   "outputs": [
    {
     "name": "stdin",
     "output_type": "stream",
     "text": [
      "qual e o teu nome? david\n"
     ]
    },
    {
     "name": "stdout",
     "output_type": "stream",
     "text": [
      "david\n"
     ]
    }
   ],
   "source": [
    "nick = input(\"qual e o teu nome?\")\n",
    "print(nick)"
   ]
  },
  {
   "cell_type": "code",
   "execution_count": 68,
   "id": "c8858552-d21a-4360-b3cd-7d74ad505c4c",
   "metadata": {},
   "outputs": [
    {
     "name": "stdin",
     "output_type": "stream",
     "text": [
      "qual é o base do triangulo 400\n",
      "qual é o altura do triangulo 200\n"
     ]
    },
    {
     "name": "stdout",
     "output_type": "stream",
     "text": [
      "300.0\n"
     ]
    }
   ],
   "source": [
    "m = int(input(\"qual é o base do triangulo\"))\n",
    "n = int(input(\"qual é o altura do triangulo\"))\n",
    "b = ((m+n)/2)\n",
    "print(b)"
   ]
  },
  {
   "cell_type": "code",
   "execution_count": 72,
   "id": "139886e6-1db4-482f-a48a-16630d078933",
   "metadata": {},
   "outputs": [
    {
     "name": "stdout",
     "output_type": "stream",
     "text": [
      "a \n",
      "e\n",
      "i\n",
      "o\n",
      "u\n"
     ]
    }
   ],
   "source": [
    "print(\"a \\ne\\ni\\no\\nu\")"
   ]
  },
  {
   "cell_type": "code",
   "execution_count": 73,
   "id": "7061e79c-ffdf-4971-b4b2-12a2ff8839a4",
   "metadata": {},
   "outputs": [
    {
     "name": "stdout",
     "output_type": "stream",
     "text": [
      "d \n",
      "da\n",
      "dav\n",
      "davi\n",
      "david\n"
     ]
    }
   ],
   "source": [
    "print(\"d \\nda\\ndav\\ndavi\\ndavid\")"
   ]
  },
  {
   "cell_type": "code",
   "execution_count": 77,
   "id": "47b174a2-3aa1-4e09-a5fd-ba42765c17fb",
   "metadata": {},
   "outputs": [
    {
     "name": "stdout",
     "output_type": "stream",
     "text": [
      "fulano da silva\n"
     ]
    }
   ],
   "source": [
    "a = \"fulano\"\n",
    "b = \" silva\"\n",
    "c = \" da\"\n",
    "print(a + c + b)"
   ]
  },
  {
   "cell_type": "code",
   "execution_count": 80,
   "id": "727305a1-e68b-428c-8119-d5d78a5ce94e",
   "metadata": {},
   "outputs": [
    {
     "name": "stdout",
     "output_type": "stream",
     "text": [
      "1\n",
      "8\n",
      "-1\n",
      "3\n",
      "9\n",
      "4\n"
     ]
    }
   ],
   "source": [
    "g = \"gato comeu bolo\"\n",
    "print(g.find(\"a\"))\n",
    "print(g.find(\"e\"))\n",
    "print(g.find(\"i\"))\n",
    "print(g.find(\"o\"))\n",
    "print(g.find(\"u\"))\n",
    "print(g.find(\" \"))"
   ]
  },
  {
   "cell_type": "code",
   "execution_count": 88,
   "id": "b0ac7339-bd94-413a-afcb-1f9b69f1ef1c",
   "metadata": {},
   "outputs": [
    {
     "name": "stdin",
     "output_type": "stream",
     "text": [
      "qual e o seu nome david\n"
     ]
    },
    {
     "name": "stdout",
     "output_type": "stream",
     "text": [
      "david\n",
      "d\n",
      "a\n",
      "v\n",
      "i\n",
      "d\n"
     ]
    },
    {
     "ename": "IndexError",
     "evalue": "string index out of range",
     "output_type": "error",
     "traceback": [
      "\u001b[1;31m---------------------------------------------------------------------------\u001b[0m",
      "\u001b[1;31mIndexError\u001b[0m                                Traceback (most recent call last)",
      "Cell \u001b[1;32mIn[88], line 9\u001b[0m\n\u001b[0;32m      7\u001b[0m \u001b[38;5;28mprint\u001b[39m(p[\u001b[38;5;241m3\u001b[39m])\n\u001b[0;32m      8\u001b[0m \u001b[38;5;28mprint\u001b[39m(p[\u001b[38;5;241m4\u001b[39m])\n\u001b[1;32m----> 9\u001b[0m \u001b[38;5;28mprint\u001b[39m(p[\u001b[38;5;241m5\u001b[39m])\n\u001b[0;32m     10\u001b[0m \u001b[38;5;28mprint\u001b[39m(p[\u001b[38;5;241m6\u001b[39m])\n\u001b[0;32m     11\u001b[0m \u001b[38;5;28mprint\u001b[39m(p[\u001b[38;5;241m7\u001b[39m])\n",
      "\u001b[1;31mIndexError\u001b[0m: string index out of range"
     ]
    }
   ],
   "source": [
    "p = input(\"qual e o seu nome\")\n",
    "len(p)\n",
    "print(p)\n",
    "print(p[0])\n",
    "print(p[1])\n",
    "print(p[2])\n",
    "print(p[3])\n",
    "print(p[4])\n",
    "print(p[5])\n",
    "print(p[6])\n",
    "print(p[7])"
   ]
  },
  {
   "cell_type": "code",
   "execution_count": null,
   "id": "dd6d23fe-56cb-4ec4-96b8-d23ae8beff5c",
   "metadata": {},
   "outputs": [],
   "source": []
  }
 ],
 "metadata": {
  "kernelspec": {
   "display_name": "Python 3 (ipykernel)",
   "language": "python",
   "name": "python3"
  },
  "language_info": {
   "codemirror_mode": {
    "name": "ipython",
    "version": 3
   },
   "file_extension": ".py",
   "mimetype": "text/x-python",
   "name": "python",
   "nbconvert_exporter": "python",
   "pygments_lexer": "ipython3",
   "version": "3.11.7"
  }
 },
 "nbformat": 4,
 "nbformat_minor": 5
}
