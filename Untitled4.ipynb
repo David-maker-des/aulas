{
 "cells": [
  {
   "cell_type": "code",
   "execution_count": 10,
   "id": "66d36087-1499-481d-bec2-de471b114cda",
   "metadata": {},
   "outputs": [
    {
     "name": "stdin",
     "output_type": "stream",
     "text": [
      "qual é o base do priangulo 5\n",
      "qual é o altura do triangulo 4\n"
     ]
    },
    {
     "name": "stdout",
     "output_type": "stream",
     "text": [
      "4.5\n"
     ]
    }
   ],
   "source": [
    "m = int(input(\"qual é o base do priangulo\"))\n",
    "n = int(input(\"qual é o altura do triangulo\"))\n",
    "b = ((m+n)/2)\n",
    "print(b)"
   ]
  },
  {
   "cell_type": "code",
   "execution_count": null,
   "id": "b5d22d9f-7160-4d67-af0f-df980c43584e",
   "metadata": {},
   "outputs": [],
   "source": []
  },
  {
   "cell_type": "code",
   "execution_count": null,
   "id": "2f40b4e7-fb63-499c-bd0e-940dc96aaf74",
   "metadata": {},
   "outputs": [],
   "source": []
  }
 ],
 "metadata": {
  "kernelspec": {
   "display_name": "Python 3 (ipykernel)",
   "language": "python",
   "name": "python3"
  },
  "language_info": {
   "codemirror_mode": {
    "name": "ipython",
    "version": 3
   },
   "file_extension": ".py",
   "mimetype": "text/x-python",
   "name": "python",
   "nbconvert_exporter": "python",
   "pygments_lexer": "ipython3",
   "version": "3.11.7"
  }
 },
 "nbformat": 4,
 "nbformat_minor": 5
}
