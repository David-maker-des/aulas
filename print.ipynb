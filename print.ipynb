{
 "cells": [
  {
   "cell_type": "code",
   "execution_count": 4,
   "id": "3a20d67f-db62-483c-af9f-a369f82a6100",
   "metadata": {},
   "outputs": [
    {
     "name": "stdout",
     "output_type": "stream",
     "text": [
      "oi\n"
     ]
    }
   ],
   "source": [
    "print(\"oi\")"
   ]
  },
  {
   "cell_type": "code",
   "execution_count": 6,
   "id": "bbe9c57f-b77c-495b-82f4-edc95ce0c489",
   "metadata": {},
   "outputs": [
    {
     "data": {
      "text/plain": [
       "18.8"
      ]
     },
     "execution_count": 6,
     "metadata": {},
     "output_type": "execute_result"
    }
   ],
   "source": [
    "9.8+9"
   ]
  },
  {
   "cell_type": "code",
   "execution_count": 7,
   "id": "a6efb92c-76b1-4093-8048-c779d481a205",
   "metadata": {},
   "outputs": [
    {
     "name": "stdout",
     "output_type": "stream",
     "text": [
      "asd\n"
     ]
    }
   ],
   "source": [
    "print(\"asd\")"
   ]
  },
  {
   "cell_type": "code",
   "execution_count": 8,
   "id": "849f15f3-84c5-4224-b8bb-3f1cd0adf1c3",
   "metadata": {},
   "outputs": [
    {
     "name": "stdout",
     "output_type": "stream",
     "text": [
      "10\n"
     ]
    }
   ],
   "source": [
    "xadrez = \"10\""
   ]
  },
  {
   "cell_type": "code",
   "execution_count": 9,
   "id": "92dd482c-2772-49b1-8108-c1739ec700b9",
   "metadata": {},
   "outputs": [
    {
     "name": "stdout",
     "output_type": "stream",
     "text": [
      "f\n"
     ]
    }
   ],
   "source": [
    "print(\"f\")"
   ]
  },
  {
   "cell_type": "code",
   "execution_count": 12,
   "id": "4858ea24-930c-4805-b989-e829fbdbc1e5",
   "metadata": {},
   "outputs": [],
   "source": [
    "omega = \"xadrez\""
   ]
  },
  {
   "cell_type": "code",
   "execution_count": 11,
   "id": "e5c3415a-a232-4b3e-ac45-738604641ba4",
   "metadata": {},
   "outputs": [
    {
     "name": "stdout",
     "output_type": "stream",
     "text": [
      "xadrez\n"
     ]
    }
   ],
   "source": [
    "print(omega)"
   ]
  },
  {
   "cell_type": "code",
   "execution_count": 13,
   "id": "8e9de5a3-000f-4e3b-98a8-0e3bc88b5b6c",
   "metadata": {},
   "outputs": [
    {
     "name": "stdout",
     "output_type": "stream",
     "text": [
      "omega\n"
     ]
    }
   ],
   "source": [
    "print(\"omega\")"
   ]
  },
  {
   "cell_type": "code",
   "execution_count": 20,
   "id": "ec4ba2c4-94e1-47ad-936d-e76fe82c4450",
   "metadata": {},
   "outputs": [
    {
     "name": "stdout",
     "output_type": "stream",
     "text": [
      "None\n"
     ]
    }
   ],
   "source": [
    "print(xadrez)"
   ]
  },
  {
   "cell_type": "code",
   "execution_count": 29,
   "id": "812b14a9-a391-4dc2-8e1a-b2571de0ad48",
   "metadata": {},
   "outputs": [
    {
     "name": "stdout",
     "output_type": "stream",
     "text": [
      "10\n"
     ]
    }
   ],
   "source": [
    "xadrez = \"10\"\n",
    "#legal **boa**\n",
    "'''\n",
    "a\n",
    "b\n",
    "c\n",
    "'''\n",
    "print(xadrez)"
   ]
  },
  {
   "cell_type": "code",
   "execution_count": 35,
   "id": "54819d45-023e-493f-9ede-6c42b4451b25",
   "metadata": {},
   "outputs": [
    {
     "data": {
      "text/plain": [
       "8"
      ]
     },
     "execution_count": 35,
     "metadata": {},
     "output_type": "execute_result"
    }
   ],
   "source": [
    "2**3"
   ]
  },
  {
   "cell_type": "code",
   "execution_count": 43,
   "id": "178c83dc-f4da-4593-923c-1d26560df4ff",
   "metadata": {},
   "outputs": [
    {
     "name": "stdout",
     "output_type": "stream",
     "text": [
      "19\n",
      "30\n",
      "28\n"
     ]
    }
   ],
   "source": [
    "numero = 19\n",
    "print(numero)\n",
    "numero = 30\n",
    "print(numero)\n",
    "numero = numero - 2\n",
    "print(numero)"
   ]
  },
  {
   "cell_type": "code",
   "execution_count": 41,
   "id": "442d7884-eb70-46ce-96af-b93d824ebf07",
   "metadata": {},
   "outputs": [
    {
     "name": "stdout",
     "output_type": "stream",
     "text": [
      "28\n"
     ]
    }
   ],
   "source": [
    "print(numero)"
   ]
  },
  {
   "cell_type": "code",
   "execution_count": null,
   "id": "eef06a94-fe9b-4b20-8d76-4f00926d5b0e",
   "metadata": {},
   "outputs": [],
   "source": []
  },
  {
   "cell_type": "code",
   "execution_count": null,
   "id": "9832ab2c-21de-48f5-a91a-b8354fc60b64",
   "metadata": {},
   "outputs": [],
   "source": []
  }
 ],
 "metadata": {
  "kernelspec": {
   "display_name": "Python 3 (ipykernel)",
   "language": "python",
   "name": "python3"
  },
  "language_info": {
   "codemirror_mode": {
    "name": "ipython",
    "version": 3
   },
   "file_extension": ".py",
   "mimetype": "text/x-python",
   "name": "python",
   "nbconvert_exporter": "python",
   "pygments_lexer": "ipython3",
   "version": "3.11.7"
  }
 },
 "nbformat": 4,
 "nbformat_minor": 5
}
