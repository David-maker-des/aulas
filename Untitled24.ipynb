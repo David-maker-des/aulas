{
 "cells": [
  {
   "cell_type": "code",
   "execution_count": 5,
   "id": "deb19a80-9a97-43eb-a996-b412a484403d",
   "metadata": {},
   "outputs": [
    {
     "name": "stdout",
     "output_type": "stream",
     "text": [
      "20.0\n"
     ]
    }
   ],
   "source": [
    "class Carro():\n",
    "    def __init__(self, km, combustivel):\n",
    "        self.combustivel = combustivel\n",
    "        self.km = km\n",
    "\n",
    "carro1 = Carro(km=200, combustivel=10)\n",
    "carro2 = Carro(km=300, combustivel=10)\n",
    "print(carro1.km / carro1.combustivel)\n",
    "\n",
    "#x = int(input(\"distância total percorrida\"))\n",
    "#y = int(input(\"combustível gasto\"))\n",
    "#print(x/y)"
   ]
  },
  {
   "cell_type": "code",
   "execution_count": null,
   "id": "16f04be5-04dc-4b6b-baac-eba06170a650",
   "metadata": {},
   "outputs": [],
   "source": []
  }
 ],
 "metadata": {
  "kernelspec": {
   "display_name": "Python 3 (ipykernel)",
   "language": "python",
   "name": "python3"
  },
  "language_info": {
   "codemirror_mode": {
    "name": "ipython",
    "version": 3
   },
   "file_extension": ".py",
   "mimetype": "text/x-python",
   "name": "python",
   "nbconvert_exporter": "python",
   "pygments_lexer": "ipython3",
   "version": "3.11.7"
  }
 },
 "nbformat": 4,
 "nbformat_minor": 5
}
