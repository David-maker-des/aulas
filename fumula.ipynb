{
 "cells": [
  {
   "cell_type": "code",
   "execution_count": 1,
   "id": "0690efbc-1fcd-4e7e-884e-c262019ae4cd",
   "metadata": {},
   "outputs": [
    {
     "name": "stdout",
     "output_type": "stream",
     "text": [
      "400\n"
     ]
    }
   ],
   "source": [
    "lado = 20\n",
    "resuldado = lado**2\n",
    "print(resuldado)"
   ]
  },
  {
   "cell_type": "code",
   "execution_count": 8,
   "id": "0f9e87a1-9784-4050-bbc4-45c34e7d1a0e",
   "metadata": {},
   "outputs": [
    {
     "name": "stdout",
     "output_type": "stream",
     "text": [
      "25.0\n"
     ]
    }
   ],
   "source": [
    "lado1 = 10\n",
    "altura1 = 5\n",
    "resuldado2 = lado1 * altura1 / 2\n",
    "print(resuldado2)"
   ]
  },
  {
   "cell_type": "code",
   "execution_count": 9,
   "id": "82792fc2-a1b7-4477-b2b9-741ebee4b07a",
   "metadata": {},
   "outputs": [
    {
     "name": "stdout",
     "output_type": "stream",
     "text": [
      "290\n"
     ]
    }
   ],
   "source": [
    "lado2 = 10\n",
    "altura2 = 29\n",
    "resuldado3 = lado2 * altura2\n",
    "print(resuldado3)"
   ]
  },
  {
   "cell_type": "code",
   "execution_count": 12,
   "id": "238ca091-3da2-41c1-be20-89bf410c57e6",
   "metadata": {},
   "outputs": [
    {
     "name": "stdout",
     "output_type": "stream",
     "text": [
      "17.5\n"
     ]
    }
   ],
   "source": [
    "base = 3\n",
    "base_maior = 4\n",
    "altura3 = 5\n",
    "resuldado4 = (base+base_maior)*altura3/2\n",
    "print(resuldado4)"
   ]
  },
  {
   "cell_type": "code",
   "execution_count": 2,
   "id": "cf0542ba-01b4-4441-8ccd-9d71feaf88fb",
   "metadata": {},
   "outputs": [
    {
     "name": "stdin",
     "output_type": "stream",
     "text": [
      "segundo 50000\n"
     ]
    },
    {
     "name": "stdout",
     "output_type": "stream",
     "text": [
      "minuto 833.3333333333334 horas 13.88888888888889\n"
     ]
    }
   ],
   "source": [
    "x = float(input(\"segundo\"))\n",
    "print(\"minuto\", x/60, \"horas\",x/3600)"
   ]
  },
  {
   "cell_type": "code",
   "execution_count": 3,
   "id": "9e7740f3-a6ac-49b8-b562-7d9c0ec6b2c3",
   "metadata": {},
   "outputs": [
    {
     "name": "stdin",
     "output_type": "stream",
     "text": [
      " 5000\n"
     ]
    },
    {
     "name": "stdout",
     "output_type": "stream",
     "text": [
      "1.3888888888888888:0.0:0.0\n"
     ]
    }
   ],
   "source": [
    "time_seconds = int(input())\n",
    "\n",
    "def format_time(seconds):\n",
    "\n",
    "    hours = seconds / 3600\n",
    "    remaining_seconds = seconds - hours * 3600\n",
    "    minutes = remaining_seconds / 60\n",
    "    seconds = remaining_seconds - minutes * 60\n",
    "\n",
    "    return hours, minutes, seconds\n",
    "\n",
    "print(\"{}:{}:{}\".format(*format_time(time_seconds)))"
   ]
  },
  {
   "cell_type": "code",
   "execution_count": null,
   "id": "4f3e4881-393a-4ca6-8386-d2e42460fcd9",
   "metadata": {},
   "outputs": [],
   "source": []
  }
 ],
 "metadata": {
  "kernelspec": {
   "display_name": "Python 3 (ipykernel)",
   "language": "python",
   "name": "python3"
  },
  "language_info": {
   "codemirror_mode": {
    "name": "ipython",
    "version": 3
   },
   "file_extension": ".py",
   "mimetype": "text/x-python",
   "name": "python",
   "nbconvert_exporter": "python",
   "pygments_lexer": "ipython3",
   "version": "3.11.7"
  }
 },
 "nbformat": 4,
 "nbformat_minor": 5
}
