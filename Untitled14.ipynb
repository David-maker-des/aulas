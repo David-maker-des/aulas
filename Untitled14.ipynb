{
 "cells": [
  {
   "cell_type": "code",
   "execution_count": 5,
   "id": "87555be1-3b15-4e15-aa7b-ff1126e24cd1",
   "metadata": {},
   "outputs": [
    {
     "name": "stdout",
     "output_type": "stream",
     "text": [
      "valor1\n"
     ]
    }
   ],
   "source": [
    "dc = {'chave1':'valor2;','chave2':'valor1'}\n",
    "print(dc['chave2'])"
   ]
  },
  {
   "cell_type": "code",
   "execution_count": 10,
   "id": "0c689362-9d1a-4a7a-aaa0-374d3f3ee0f9",
   "metadata": {},
   "outputs": [
    {
     "data": {
      "text/plain": [
       "11"
      ]
     },
     "execution_count": 10,
     "metadata": {},
     "output_type": "execute_result"
    }
   ],
   "source": [
    "dcd = {'karui':10,'gen':[11,12,13]}\n",
    "dcd['gen'][0]"
   ]
  },
  {
   "cell_type": "code",
   "execution_count": 14,
   "id": "1ae2a30d-014e-46d0-858c-bf5f058eb991",
   "metadata": {},
   "outputs": [
    {
     "name": "stdout",
     "output_type": "stream",
     "text": [
      "{'me': 'white', 'you': 'heart'}\n"
     ]
    }
   ],
   "source": [
    "d = {}\n",
    "d['me'] = 'white'\n",
    "d['you'] = 'heart'\n",
    "print(d)"
   ]
  },
  {
   "cell_type": "code",
   "execution_count": 44,
   "id": "bf6a6f82-7f07-4ea9-843a-3982fc425a5f",
   "metadata": {},
   "outputs": [
    {
     "name": "stdin",
     "output_type": "stream",
     "text": [
      "qual seria região? São Paulo\n"
     ]
    },
    {
     "name": "stdout",
     "output_type": "stream",
     "text": [
      "11\n"
     ]
    }
   ],
   "source": [
    "ddd = {'São Paulo':11,'Paraná':49,'Rio Grande do Sul':51,'Santa Catarina':42}\n",
    "x = input(\"qual seria região?\")\n",
    "print(ddd[x])"
   ]
  },
  {
   "cell_type": "code",
   "execution_count": 47,
   "id": "93c1e1e8-bb83-4afe-87c3-c7b6050a94c0",
   "metadata": {},
   "outputs": [
    {
     "name": "stdin",
     "output_type": "stream",
     "text": [
      "qual animal que você quer saber a quantidade? Coelho\n"
     ]
    },
    {
     "name": "stdout",
     "output_type": "stream",
     "text": [
      "quantidade do Coelho é 32\n"
     ]
    }
   ],
   "source": [
    "fff = {'Coelho':32,'Sapo':49,'Macaco':51,'Rato':42}\n",
    "z = input(\"qual animal que você quer saber a quantidade?\")\n",
    "print(\"quantidade do\",z,\"é\",fff[z])"
   ]
  },
  {
   "cell_type": "code",
   "execution_count": 48,
   "id": "2b93b3a2-eb4e-4ef0-9df8-3ab9df620974",
   "metadata": {},
   "outputs": [
    {
     "name": "stdout",
     "output_type": "stream",
     "text": [
      "{1, 2, 3, 4, 5, 6, 7, 8}\n"
     ]
    }
   ],
   "source": [
    "c = set()\n",
    "c.add(1)\n",
    "c.add(2)\n",
    "c.add(3)\n",
    "c.add(4)\n",
    "c.add(5)\n",
    "c.add(6)\n",
    "c.add(7)\n",
    "c.add(8)\n",
    "print(c)"
   ]
  },
  {
   "cell_type": "code",
   "execution_count": null,
   "id": "b22bc96f-0c18-40c9-b5ea-1fee986b106a",
   "metadata": {},
   "outputs": [],
   "source": []
  }
 ],
 "metadata": {
  "kernelspec": {
   "display_name": "Python 3 (ipykernel)",
   "language": "python",
   "name": "python3"
  },
  "language_info": {
   "codemirror_mode": {
    "name": "ipython",
    "version": 3
   },
   "file_extension": ".py",
   "mimetype": "text/x-python",
   "name": "python",
   "nbconvert_exporter": "python",
   "pygments_lexer": "ipython3",
   "version": "3.11.7"
  }
 },
 "nbformat": 4,
 "nbformat_minor": 5
}
