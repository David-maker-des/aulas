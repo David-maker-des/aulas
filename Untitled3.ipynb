{
 "cells": [
  {
   "cell_type": "code",
   "execution_count": 1,
   "id": "47a2d92e-1493-4aed-b746-bb06e4ee46e9",
   "metadata": {},
   "outputs": [
    {
     "ename": "NameError",
     "evalue": "name 'david' is not defined",
     "output_type": "error",
     "traceback": [
      "\u001b[1;31m---------------------------------------------------------------------------\u001b[0m",
      "\u001b[1;31mNameError\u001b[0m                                 Traceback (most recent call last)",
      "Cell \u001b[1;32mIn[1], line 1\u001b[0m\n\u001b[1;32m----> 1\u001b[0m email \u001b[38;5;241m=\u001b[39m david\u001b[38;5;129m@gmail\u001b[39m\u001b[38;5;241m.\u001b[39mcom\n\u001b[0;32m      2\u001b[0m \u001b[38;5;28mprint\u001b[39m(email\u001b[38;5;241m.\u001b[39mfind(\u001b[38;5;124m\"\u001b[39m\u001b[38;5;124m@\u001b[39m\u001b[38;5;124m\"\u001b[39m))\n",
      "\u001b[1;31mNameError\u001b[0m: name 'david' is not defined"
     ]
    }
   ],
   "source": [
    "email = david@gmail.com\n",
    "print(email.find(\"@\"))"
   ]
  },
  {
   "cell_type": "code",
   "execution_count": null,
   "id": "334d3fd1-9799-4a4c-8501-6acd81fa47ad",
   "metadata": {},
   "outputs": [],
   "source": []
  }
 ],
 "metadata": {
  "kernelspec": {
   "display_name": "Python 3 (ipykernel)",
   "language": "python",
   "name": "python3"
  },
  "language_info": {
   "codemirror_mode": {
    "name": "ipython",
    "version": 3
   },
   "file_extension": ".py",
   "mimetype": "text/x-python",
   "name": "python",
   "nbconvert_exporter": "python",
   "pygments_lexer": "ipython3",
   "version": "3.11.7"
  }
 },
 "nbformat": 4,
 "nbformat_minor": 5
}
