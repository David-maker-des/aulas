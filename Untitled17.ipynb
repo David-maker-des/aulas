{
 "cells": [
  {
   "cell_type": "code",
   "execution_count": 1,
   "id": "468dc555-a5b7-41d7-88ec-f91f8557a3d2",
   "metadata": {},
   "outputs": [],
   "source": [
    "def areadotrapezio(a,b,c):\n",
    "    return (a+b)*c/2\n",
    "def areadotriangulo(a,b):\n",
    "    return a*b/2"
   ]
  },
  {
   "cell_type": "code",
   "execution_count": null,
   "id": "1fcca0b9-7550-406e-895b-b82d34a8653b",
   "metadata": {},
   "outputs": [],
   "source": []
  }
 ],
 "metadata": {
  "kernelspec": {
   "display_name": "Python 3 (ipykernel)",
   "language": "python",
   "name": "python3"
  },
  "language_info": {
   "codemirror_mode": {
    "name": "ipython",
    "version": 3
   },
   "file_extension": ".py",
   "mimetype": "text/x-python",
   "name": "python",
   "nbconvert_exporter": "python",
   "pygments_lexer": "ipython3",
   "version": "3.11.7"
  }
 },
 "nbformat": 4,
 "nbformat_minor": 5
}
