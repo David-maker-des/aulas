{
 "cells": [
  {
   "cell_type": "code",
   "execution_count": 1,
   "id": "f77725ac-fe31-4942-953d-cf657f1975ad",
   "metadata": {},
   "outputs": [
    {
     "name": "stdout",
     "output_type": "stream",
     "text": [
      "Writing arquivo.txt\n"
     ]
    }
   ],
   "source": [
    "%%writefile arquivo.txt\n",
    "Olá"
   ]
  },
  {
   "cell_type": "code",
   "execution_count": 14,
   "id": "3af568e9-75b1-4b93-a4d9-559cdef8c35c",
   "metadata": {},
   "outputs": [],
   "source": [
    "arqui = open('arquivo.txt')"
   ]
  },
  {
   "cell_type": "code",
   "execution_count": 15,
   "id": "3538ba8c-812e-4b07-90dd-d60dbd88b55e",
   "metadata": {},
   "outputs": [
    {
     "name": "stdout",
     "output_type": "stream",
     "text": [
      "<_io.TextIOWrapper name='arquivo.txt' mode='r' encoding='cp1252'>\n"
     ]
    }
   ],
   "source": [
    "print(arqui)"
   ]
  },
  {
   "cell_type": "code",
   "execution_count": 16,
   "id": "0b060206-3df9-44e3-8a7b-8eca1ed9b10f",
   "metadata": {},
   "outputs": [
    {
     "data": {
      "text/plain": [
       "'OlÃ¡\\n'"
      ]
     },
     "execution_count": 16,
     "metadata": {},
     "output_type": "execute_result"
    }
   ],
   "source": [
    "arqui.read()"
   ]
  },
  {
   "cell_type": "code",
   "execution_count": 28,
   "id": "d8b8ed3d-0f7a-4402-a249-89cf82d3befe",
   "metadata": {},
   "outputs": [
    {
     "name": "stdout",
     "output_type": "stream",
     "text": [
      "Overwriting text.txt\n"
     ]
    }
   ],
   "source": [
    "%%writefile text.txt\n",
    "ola meu amiga "
   ]
  },
  {
   "cell_type": "code",
   "execution_count": 27,
   "id": "ad3a11e7-8379-4569-883b-e2151df5961c",
   "metadata": {},
   "outputs": [
    {
     "data": {
      "text/plain": [
       "'ola meu amiga\\n'"
      ]
     },
     "execution_count": 27,
     "metadata": {},
     "output_type": "execute_result"
    }
   ],
   "source": [
    "text = open('text.txt')\n",
    "text.read()"
   ]
  },
  {
   "cell_type": "code",
   "execution_count": 31,
   "id": "23b5e4f3-45d0-4eb3-ab61-f162aa3a5417",
   "metadata": {},
   "outputs": [
    {
     "name": "stdout",
     "output_type": "stream",
     "text": [
      "Writing moon.txt\n"
     ]
    }
   ],
   "source": [
    "%%writefile moon.txt\n",
    "oi"
   ]
  },
  {
   "cell_type": "code",
   "execution_count": 34,
   "id": "3a62f7b6-b18e-4f4a-9331-178e12168492",
   "metadata": {},
   "outputs": [
    {
     "data": {
      "text/plain": [
       "'oi\\n'"
      ]
     },
     "execution_count": 34,
     "metadata": {},
     "output_type": "execute_result"
    }
   ],
   "source": [
    "omy = open('moon.txt')\n",
    "omy.read()\n"
   ]
  },
  {
   "cell_type": "code",
   "execution_count": 35,
   "id": "7094e11d-0aae-412c-ad7e-ac3c085f7ccb",
   "metadata": {},
   "outputs": [
    {
     "data": {
      "text/plain": [
       "''"
      ]
     },
     "execution_count": 35,
     "metadata": {},
     "output_type": "execute_result"
    }
   ],
   "source": [
    "omy.read()"
   ]
  },
  {
   "cell_type": "code",
   "execution_count": 45,
   "id": "d9d9bb0c-7a29-4bc8-84c1-a73ea9e7e956",
   "metadata": {},
   "outputs": [
    {
     "data": {
      "text/plain": [
       "'ola meu amiga \\nasdadsawds\\njaidjjajfahfuhfhuhauhffjpfiappifieiafjajwuefdushauhfuehwauhdshufhuahpaijfpawifhudshfuhewauhfsdhfalcvbhayhgcyxgygashkdfauufhooqewaugyfagyefoaeyf\\n'"
      ]
     },
     "execution_count": 45,
     "metadata": {},
     "output_type": "execute_result"
    }
   ],
   "source": [
    "text.seek(0)\n",
    "text.read()"
   ]
  },
  {
   "cell_type": "code",
   "execution_count": null,
   "id": "090e63be-cbb8-41ed-9cb6-791b980e091d",
   "metadata": {},
   "outputs": [],
   "source": []
  },
  {
   "cell_type": "code",
   "execution_count": 61,
   "id": "90222744-cd57-473e-9028-dab76ea6dffa",
   "metadata": {},
   "outputs": [
    {
     "data": {
      "text/plain": [
       "11"
      ]
     },
     "execution_count": 61,
     "metadata": {},
     "output_type": "execute_result"
    }
   ],
   "source": [
    "mist = open('misto.txt','w')\n",
    "mist.write('cocococooco')\n"
   ]
  },
  {
   "cell_type": "code",
   "execution_count": 62,
   "id": "4c59b627-2f92-4592-b649-6bff5071d2b4",
   "metadata": {},
   "outputs": [
    {
     "data": {
      "text/plain": [
       "'cocococooco'"
      ]
     },
     "execution_count": 62,
     "metadata": {},
     "output_type": "execute_result"
    }
   ],
   "source": [
    "mist = open('misto.txt')\n",
    "mist.read()"
   ]
  },
  {
   "cell_type": "code",
   "execution_count": 70,
   "id": "0033141e-712b-45ef-9733-c51d09d991aa",
   "metadata": {},
   "outputs": [
    {
     "name": "stdin",
     "output_type": "stream",
     "text": [
      "numero? 25.01\n"
     ]
    },
    {
     "name": "stdout",
     "output_type": "stream",
     "text": [
      "é 25,50\n"
     ]
    }
   ],
   "source": [
    "dc = {'25.01':'25,50','25.00':'0,25','100.00':'75,100','-25.02':'fora do intervalo'}\n",
    "z = input('numero?')\n",
    "print('é',dc[z])"
   ]
  },
  {
   "cell_type": "code",
   "execution_count": null,
   "id": "d9a32e2b-d830-415d-bf62-3ba5ce4d53cb",
   "metadata": {},
   "outputs": [],
   "source": []
  },
  {
   "cell_type": "code",
   "execution_count": 4,
   "id": "976bb801-104c-4a87-81de-3f4e84f1430e",
   "metadata": {},
   "outputs": [
    {
     "name": "stdin",
     "output_type": "stream",
     "text": [
      "numero 2\n"
     ]
    },
    {
     "name": "stdout",
     "output_type": "stream",
     "text": [
      "10 horas\n"
     ]
    }
   ],
   "source": [
    "c = float(input(\"numero\"))\n",
    "if 0 < 2 < c < 16:\n",
    "    print('10 horas')\n",
    "elif 0 == c:\n",
    "    print('24 horas')\n",
    "elif 2 <= c:\n",
    "    print('10 horas')"
   ]
  },
  {
   "cell_type": "code",
   "execution_count": 7,
   "id": "6de800b5-384f-4acf-8166-39a5920061a3",
   "metadata": {},
   "outputs": [
    {
     "name": "stdin",
     "output_type": "stream",
     "text": [
      "numero? 0 0\n"
     ]
    },
    {
     "name": "stdout",
     "output_type": "stream",
     "text": [
      "é 24 horas\n"
     ]
    }
   ],
   "source": [
    "dz = {'16 2':'10 horas','0 0':'24 horas','2 16':'12 horas'}\n",
    "f = input('numero?')\n",
    "print('é',dz[f])"
   ]
  },
  {
   "cell_type": "code",
   "execution_count": 14,
   "id": "1c4320c3-8245-4b27-81d5-04371d8970aa",
   "metadata": {},
   "outputs": [
    {
     "ename": "SyntaxError",
     "evalue": "invalid syntax (3576172260.py, line 6)",
     "output_type": "error",
     "traceback": [
      "\u001b[1;36m  Cell \u001b[1;32mIn[14], line 6\u001b[1;36m\u001b[0m\n\u001b[1;33m    jogo durou 1 hora\u001b[0m\n\u001b[1;37m         ^\u001b[0m\n\u001b[1;31mSyntaxError\u001b[0m\u001b[1;31m:\u001b[0m invalid syntax\n"
     ]
    }
   ],
   "source": [
    "df = float(input('quando começou?'))\n",
    "dk = float(input('quando terminou?'))\n",
    "bd = (dk) - (df)\n",
    "print(bd)\n",
    "if bd == 1:\n",
    "    print(\"jogo durou 1 hora\")\n",
    "elif bd == 2:\n",
    "    print(\"jogo durou 2 horas\")\n",
    "elif bd == 3:\n",
    "    print(\"jogo durou 3 horas\")\n",
    "elif bd == 4:\n",
    "    jogo durou 4 horas\n",
    "elif bd == 5:\n",
    "    jogo durou 5 horas\n",
    "elif bd == 6:\n",
    "    jogo durou 6 horas\n",
    "elif bd == 7:\n",
    "    jogo durou 7 horas\n",
    "elif bd == 8:\n",
    "    jogo durou 8 horas\n",
    "elif bd == 9:\n",
    "    jogo durou 9 horas\n",
    "elif bd == 10:\n",
    "    jogo durou 10 horas\n",
    "elif bd == 11:\n",
    "    jogo durou 11 horas\n",
    "elif bd == 12:\n",
    "    jogo durou 12 horas\n",
    "elif bd == 13:\n",
    "    jogo durou 13 horas\n",
    "elif bd == 14:\n",
    "    jogo durou 14 horas\n",
    "elif bd == 15:\n",
    "    jogo durou 15 horas\n",
    "elif bd == 16:\n",
    "    jogo durou 16 horas\n",
    "elif bd == 17:\n",
    "    jogo durou 17 horas\n",
    "elif bd == 18:\n",
    "    jogo durou 18 horas\n",
    "elif bd == 19:\n",
    "    jogo durou 19 horas\n",
    "elif bd == 20:\n",
    "    jogo durou 20 horas\n",
    "elif bd == 21:\n",
    "    jogo durou 22 horas\n",
    "elif bd == 23:\n",
    "    jogo durou 23 horas\n",
    "elif bd == 24:\n",
    "    jogo durou 24 horas"
   ]
  },
  {
   "cell_type": "code",
   "execution_count": 25,
   "id": "b0cb089e-f13d-48ae-901a-859bda012930",
   "metadata": {},
   "outputs": [
    {
     "name": "stdin",
     "output_type": "stream",
     "text": [
      "quando começou? 23\n",
      "quando terminou? 1\n"
     ]
    },
    {
     "name": "stdout",
     "output_type": "stream",
     "text": [
      "jogo durou -22 horas\n"
     ]
    }
   ],
   "source": [
    "df = int(input('quando começou?'))\n",
    "dk = int(input('quando terminou?'))\n",
    "bg = (dk) - (df)\n",
    "if (bg) <= (0):\n",
    "    bg + 24\n",
    "print(\"jogo durou\",bg,\"horas\")"
   ]
  },
  {
   "cell_type": "code",
   "execution_count": 29,
   "id": "ec6cebd7-34be-412c-93d9-16a549c81c87",
   "metadata": {},
   "outputs": [
    {
     "name": "stdout",
     "output_type": "stream",
     "text": [
      "32.0\n",
      "3\n",
      "2\n",
      "['__doc__', '__loader__', '__name__', '__package__', '__spec__', 'acos', 'acosh', 'asin', 'asinh', 'atan', 'atan2', 'atanh', 'cbrt', 'ceil', 'comb', 'copysign', 'cos', 'cosh', 'degrees', 'dist', 'e', 'erf', 'erfc', 'exp', 'exp2', 'expm1', 'fabs', 'factorial', 'floor', 'fmod', 'frexp', 'fsum', 'gamma', 'gcd', 'hypot', 'inf', 'isclose', 'isfinite', 'isinf', 'isnan', 'isqrt', 'lcm', 'ldexp', 'lgamma', 'log', 'log10', 'log1p', 'log2', 'modf', 'nan', 'nextafter', 'perm', 'pi', 'pow', 'prod', 'radians', 'remainder', 'sin', 'sinh', 'sqrt', 'tan', 'tanh', 'tau', 'trunc', 'ulp']\n"
     ]
    }
   ],
   "source": [
    "import math\n",
    "print(math.pow(2,5))\n",
    "print(math.ceil(2.6))\n",
    "print(math.trunc(2.6))\n",
    "print(dir(math))"
   ]
  },
  {
   "cell_type": "code",
   "execution_count": 32,
   "id": "782271be-fad8-4bd4-8f3a-5809eb2dd623",
   "metadata": {},
   "outputs": [],
   "source": [
    "import os\n",
    "os.remove(\"x.txt\")"
   ]
  },
  {
   "cell_type": "code",
   "execution_count": null,
   "id": "ac71afad-0925-495a-8b9a-66e45a038686",
   "metadata": {},
   "outputs": [],
   "source": [
    "def "
   ]
  }
 ],
 "metadata": {
  "kernelspec": {
   "display_name": "Python 3 (ipykernel)",
   "language": "python",
   "name": "python3"
  },
  "language_info": {
   "codemirror_mode": {
    "name": "ipython",
    "version": 3
   },
   "file_extension": ".py",
   "mimetype": "text/x-python",
   "name": "python",
   "nbconvert_exporter": "python",
   "pygments_lexer": "ipython3",
   "version": "3.11.7"
  }
 },
 "nbformat": 4,
 "nbformat_minor": 5
}
