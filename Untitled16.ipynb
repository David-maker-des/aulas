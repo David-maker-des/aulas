{
 "cells": [
  {
   "cell_type": "code",
   "execution_count": null,
   "id": "3b83a6f4-c6ff-4f5c-b64a-036ca95648e4",
   "metadata": {},
   "outputs": [],
   "source": [
    "import os\n",
    "\n",
    "caminho_do_arquivo = \"C/p/o/seu/arquivo.txt\"\n",
    "\n",
    "# Verifica se o arquivo existe antes de tentar removê-lo\n",
    "if os.path.exists(caminho_do_arquivo):\n",
    "    os.remove(caminho_do_arquivo)\n",
    "    print(\"Arquivo removido com sucesso!\")\n",
    "else:\n",
    "    print(\"O arquivo não existe.\")"
   ]
  }
 ],
 "metadata": {
  "kernelspec": {
   "display_name": "Python 3 (ipykernel)",
   "language": "python",
   "name": "python3"
  },
  "language_info": {
   "codemirror_mode": {
    "name": "ipython",
    "version": 3
   },
   "file_extension": ".py",
   "mimetype": "text/x-python",
   "name": "python",
   "nbconvert_exporter": "python",
   "pygments_lexer": "ipython3",
   "version": "3.11.7"
  }
 },
 "nbformat": 4,
 "nbformat_minor": 5
}
