{
 "cells": [
  {
   "cell_type": "code",
   "execution_count": 5,
   "id": "e619911a-7060-46d9-9602-97fcff118d2a",
   "metadata": {},
   "outputs": [
    {
     "name": "stdout",
     "output_type": "stream",
     "text": [
      "587.5\n"
     ]
    }
   ],
   "source": [
    "import x\n",
    "print(x.areadotrapezio(23,24,25))"
   ]
  },
  {
   "cell_type": "code",
   "execution_count": null,
   "id": "48aa5cc2-b656-49ff-82e5-187b1e8f40f3",
   "metadata": {},
   "outputs": [],
   "source": []
  },
  {
   "cell_type": "code",
   "execution_count": null,
   "id": "60b43e59-0c97-4e63-b14c-bd0a001916d4",
   "metadata": {},
   "outputs": [],
   "source": []
  }
 ],
 "metadata": {
  "kernelspec": {
   "display_name": "Python 3 (ipykernel)",
   "language": "python",
   "name": "python3"
  },
  "language_info": {
   "codemirror_mode": {
    "name": "ipython",
    "version": 3
   },
   "file_extension": ".py",
   "mimetype": "text/x-python",
   "name": "python",
   "nbconvert_exporter": "python",
   "pygments_lexer": "ipython3",
   "version": "3.11.7"
  }
 },
 "nbformat": 4,
 "nbformat_minor": 5
}
