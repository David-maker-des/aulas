{
 "cells": [
  {
   "cell_type": "code",
   "execution_count": 30,
   "id": "7e96bc1b-56d9-459b-82c6-b4cef2649656",
   "metadata": {},
   "outputs": [
    {
     "name": "stdin",
     "output_type": "stream",
     "text": [
      "qual é o numero 100000000000000000000000000000000000000000000000000000000000000000000000000000000000\n"
     ]
    },
    {
     "name": "stdout",
     "output_type": "stream",
     "text": [
      "par\n",
      "par\n"
     ]
    }
   ],
   "source": [
    "a = int(input('qual é o numero'))\n",
    "\n",
    "def parOuImpar(num):\n",
    "    if a%2==0:\n",
    "        return 'par'\n",
    "    elif a%2!=0:\n",
    "        return 'impar'\n",
    "\n",
    "print(parOuImpar(4))\n",
    "\n",
    "print(parOuImpar(4))"
   ]
  },
  {
   "cell_type": "code",
   "execution_count": null,
   "id": "f61ed518-b450-46d8-847f-be08187614c1",
   "metadata": {},
   "outputs": [],
   "source": [
    "numero = int(input('qual é o numero dele'))\n",
    "numero2 = float(input('quando ele trabalho?'))\n",
    "numero3 = float(input('valor?'))\n",
    "if numero == 25:\n",
    "    print(numero3 * numero2)\n",
    "elif numero == 1:\n",
    "    print(numero3 * numero2)\n",
    "elif numero == 6:\n",
    "    print(numero3 * numero2)"
   ]
  },
  {
   "cell_type": "code",
   "execution_count": 42,
   "id": "5736baf3-2639-4a61-b03d-6d7519cdd082",
   "metadata": {},
   "outputs": [
    {
     "name": "stdin",
     "output_type": "stream",
     "text": [
      " 25\n",
      " 200\n",
      " 23\n"
     ]
    },
    {
     "name": "stdout",
     "output_type": "stream",
     "text": [
      "NUMBER = 25\n",
      "4600.00\n"
     ]
    }
   ],
   "source": [
    "numero = int(input())\n",
    "numero2 = float(input())\n",
    "numero3 = float(input())\n",
    "print('NUMBER =', numero)\n",
    "print(\"SALARY = U$ \"\"{:0.2f}\".format(numero3 * numero2))\n",
    "\n",
    "\n",
    "\n",
    "#numero = 400 \n",
    "#print(\"{:0.2f}\".format(numero))"
   ]
  },
  {
   "cell_type": "code",
   "execution_count": null,
   "id": "eabcc68a-1e14-4a8b-8f68-2d345c462cec",
   "metadata": {},
   "outputs": [],
   "source": [
    "numero = 1\n",
    "numero2 = range(1,51)\n",
    "i=0\n",
    "while numero < 50:\n",
    "    print('valor do x',x)"
   ]
  },
  {
   "cell_type": "code",
   "execution_count": null,
   "id": "72094d6d-c565-4a93-8481-960701c68ca9",
   "metadata": {},
   "outputs": [],
   "source": []
  }
 ],
 "metadata": {
  "kernelspec": {
   "display_name": "Python 3 (ipykernel)",
   "language": "python",
   "name": "python3"
  },
  "language_info": {
   "codemirror_mode": {
    "name": "ipython",
    "version": 3
   },
   "file_extension": ".py",
   "mimetype": "text/x-python",
   "name": "python",
   "nbconvert_exporter": "python",
   "pygments_lexer": "ipython3",
   "version": "3.11.7"
  }
 },
 "nbformat": 4,
 "nbformat_minor": 5
}
