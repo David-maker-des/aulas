{
 "cells": [
  {
   "cell_type": "code",
   "execution_count": 11,
   "id": "83eac1a1-7939-4c24-8d8a-87b8103607ad",
   "metadata": {},
   "outputs": [],
   "source": [
    "conidados = [\"matheus\", \"joão\", \"miguel\", \"valentina\"]"
   ]
  },
  {
   "cell_type": "code",
   "execution_count": 7,
   "id": "35f56e19-1f52-414e-8bfa-f652e7fbc3b6",
   "metadata": {},
   "outputs": [
    {
     "name": "stdout",
     "output_type": "stream",
     "text": [
      "['matheus', 'joão', 'miguel']\n"
     ]
    }
   ],
   "source": [
    "print(conidados)"
   ]
  },
  {
   "cell_type": "code",
   "execution_count": 10,
   "id": "051e39dc-87e7-4161-bcc8-caca84b19612",
   "metadata": {},
   "outputs": [
    {
     "name": "stdout",
     "output_type": "stream",
     "text": [
      "o primeiro que foi convidado na festa matheus\n"
     ]
    }
   ],
   "source": [
    "print(\"o primeiro que foi convidado na festa \" + conidados[0])"
   ]
  },
  {
   "cell_type": "code",
   "execution_count": 12,
   "id": "08c075de-b946-4e32-8f65-fdc807328126",
   "metadata": {},
   "outputs": [
    {
     "name": "stdout",
     "output_type": "stream",
     "text": [
      "o primeiro que foi convidado na festa valentina\n"
     ]
    }
   ],
   "source": [
    "print(\"o primeiro que foi convidado na festa \" + conidados[-1])"
   ]
  },
  {
   "cell_type": "code",
   "execution_count": 28,
   "id": "37627c00-5bda-479b-96df-58bae6d64e15",
   "metadata": {},
   "outputs": [
    {
     "name": "stdin",
     "output_type": "stream",
     "text": [
      "qual altura do triagulo? 2\n",
      "qual base do triagulo? 3\n"
     ]
    },
    {
     "name": "stdout",
     "output_type": "stream",
     "text": [
      "A area do triangulo é: 3.0\n"
     ]
    }
   ],
   "source": [
    "x = int(input(\"qual altura do triagulo?\"))\n",
    "y = int(input(\"qual base do triagulo?\"))\n",
    "print(\"A area do triangulo é:\", x*y/2)"
   ]
  },
  {
   "cell_type": "code",
   "execution_count": 49,
   "id": "55cbf777-1a94-45eb-8cad-db3ccddeb9f6",
   "metadata": {},
   "outputs": [
    {
     "name": "stdout",
     "output_type": "stream",
     "text": [
      "['matheus', 'joão', 'miguel', 'pedro', 'valentina', 'marcelo']\n"
     ]
    }
   ],
   "source": [
    "conidados.append(\"marcelo\")\n",
    "print(conidados)"
   ]
  },
  {
   "cell_type": "code",
   "execution_count": 38,
   "id": "85143601-e067-47e9-9145-461de4161d74",
   "metadata": {},
   "outputs": [
    {
     "name": "stdout",
     "output_type": "stream",
     "text": [
      "['matheus', 'joão', 'miguel', 'valentina', 'marcelo']\n"
     ]
    }
   ],
   "source": [
    "conidados.pop()\n",
    "print(conidados)"
   ]
  },
  {
   "cell_type": "code",
   "execution_count": 40,
   "id": "fb0f53da-2223-4408-8e50-c0ca21e00467",
   "metadata": {},
   "outputs": [
    {
     "name": "stdout",
     "output_type": "stream",
     "text": [
      "['matheus', 'joão', 'miguel', 'pedro', 'valentina', 'marcelo']\n"
     ]
    }
   ],
   "source": [
    "conidados.insert(3, \"pedro\")\n",
    "print(conidados)"
   ]
  },
  {
   "cell_type": "code",
   "execution_count": 45,
   "id": "edaadfac-3e89-41f2-810d-79645a3d0cf3",
   "metadata": {},
   "outputs": [
    {
     "name": "stdout",
     "output_type": "stream",
     "text": [
      "['matheus', 'joão', 'miguel', 'pedro', 'valentina']\n"
     ]
    }
   ],
   "source": [
    "del conidados[5]\n",
    "print(conidados)"
   ]
  },
  {
   "cell_type": "code",
   "execution_count": 48,
   "id": "b9863459-2b2c-4cbd-bbfa-a20870928c35",
   "metadata": {},
   "outputs": [
    {
     "name": "stdout",
     "output_type": "stream",
     "text": [
      "['matheus', 'joão', 'miguel', 'pedro', 'valentina']\n"
     ]
    }
   ],
   "source": [
    "del conidados[-1]\n",
    "print(conidados)"
   ]
  },
  {
   "cell_type": "code",
   "execution_count": 50,
   "id": "c5b5b8c5-0d10-4e77-9726-c48b1a50f576",
   "metadata": {},
   "outputs": [
    {
     "name": "stdout",
     "output_type": "stream",
     "text": [
      "marcelo\n"
     ]
    }
   ],
   "source": [
    "conidadosremovido = conidados.pop()\n",
    "print(conidadosremovido)"
   ]
  },
  {
   "cell_type": "code",
   "execution_count": 51,
   "id": "0cbf8130-94bf-4160-aec0-fba71fd462c9",
   "metadata": {},
   "outputs": [
    {
     "name": "stdout",
     "output_type": "stream",
     "text": [
      "['matheus', 'joão', 'miguel', 'pedro', 'valentina']\n"
     ]
    }
   ],
   "source": [
    "print(conidados)"
   ]
  },
  {
   "cell_type": "code",
   "execution_count": 61,
   "id": "029d102b-8acd-487d-a7e3-9b3fe15f4467",
   "metadata": {},
   "outputs": [
    {
     "name": "stdout",
     "output_type": "stream",
     "text": [
      "['matheus', 'pedro', 'valentina', 'joãomiguel']\n"
     ]
    }
   ],
   "source": [
    "viajando = \"joão\"\n",
    "conidados.remove(viajando)\n",
    "conidados.remove(\"miguel\")\n",
    "print(conidados)"
   ]
  },
  {
   "cell_type": "code",
   "execution_count": 60,
   "id": "a222098a-9491-4a87-824e-59e9a10c9673",
   "metadata": {},
   "outputs": [
    {
     "name": "stdout",
     "output_type": "stream",
     "text": [
      "['matheus', 'pedro', 'valentina', 'joãomiguel', 'joão', 'miguel']\n"
     ]
    }
   ],
   "source": [
    "conidados.append(\"miguel\")\n",
    "print(conidados)"
   ]
  },
  {
   "cell_type": "code",
   "execution_count": 62,
   "id": "be93a64c-c953-46f6-8014-b0075dc5e8e0",
   "metadata": {},
   "outputs": [
    {
     "name": "stdout",
     "output_type": "stream",
     "text": [
      "['joãomiguel', 'matheus', 'pedro', 'valentina']\n"
     ]
    }
   ],
   "source": [
    "conidados.sort()\n",
    "print(conidados)"
   ]
  },
  {
   "cell_type": "code",
   "execution_count": 64,
   "id": "38b7b08e-310d-41b1-b1a4-a858cfc5fb96",
   "metadata": {},
   "outputs": [
    {
     "name": "stdout",
     "output_type": "stream",
     "text": [
      "['valentina', 'pedro', 'matheus', 'joãomiguel']\n"
     ]
    }
   ],
   "source": [
    "conidados.sort(reverse=True)\n",
    "print(conidados)"
   ]
  },
  {
   "cell_type": "code",
   "execution_count": 67,
   "id": "f02dd26e-048d-46e7-a2a0-2fc747e442d3",
   "metadata": {},
   "outputs": [
    {
     "name": "stdout",
     "output_type": "stream",
     "text": [
      "['joãomiguel', 'matheus', 'pedro', 'valentina']\n"
     ]
    }
   ],
   "source": [
    "conidados.reverse()\n",
    "print(conidados)"
   ]
  },
  {
   "cell_type": "code",
   "execution_count": null,
   "id": "e18b9c3e-edc9-48bd-a457-08ca1749c62c",
   "metadata": {},
   "outputs": [],
   "source": []
  }
 ],
 "metadata": {
  "kernelspec": {
   "display_name": "Python 3 (ipykernel)",
   "language": "python",
   "name": "python3"
  },
  "language_info": {
   "codemirror_mode": {
    "name": "ipython",
    "version": 3
   },
   "file_extension": ".py",
   "mimetype": "text/x-python",
   "name": "python",
   "nbconvert_exporter": "python",
   "pygments_lexer": "ipython3",
   "version": "3.11.7"
  }
 },
 "nbformat": 4,
 "nbformat_minor": 5
}
