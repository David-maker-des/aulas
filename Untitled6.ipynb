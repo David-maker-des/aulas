{
 "cells": [
  {
   "cell_type": "code",
   "execution_count": 19,
   "id": "02abfc8f-7141-4c6a-9c38-f50b7fce6d48",
   "metadata": {},
   "outputs": [
    {
     "name": "stdin",
     "output_type": "stream",
     "text": [
      "numero 1\n"
     ]
    },
    {
     "name": "stdout",
     "output_type": "stream",
     "text": [
      "[1, 2, 4, 8, 16, 32, 64, 128, 256, 512]\n",
      "10\n"
     ]
    }
   ],
   "source": [
    "r = []\n",
    "\n",
    "\n",
    "x = int(input(\"numero\"))\n",
    "r.append(x)\n",
    "\n",
    "c = (2*x)\n",
    "r.append(c)\n",
    "o = (2*c)\n",
    "r.append(o)\n",
    "q = (2*o)\n",
    "r.append(q)\n",
    "w = (2*q)\n",
    "r.append(w)\n",
    "t = (2*w)\n",
    "r.append(t)\n",
    "p = (2*t)\n",
    "r.append(p)\n",
    "k = (2*p)\n",
    "r.append(k)\n",
    "s = (2*k)\n",
    "r.append(s)\n",
    "v = (2*v)\n",
    "r.append(v)\n",
    "\n",
    "\n",
    "\n",
    "print(r)\n",
    "print(len(r))"
   ]
  },
  {
   "cell_type": "code",
   "execution_count": 8,
   "id": "0bddccec-371a-4dd9-b330-2722396c0c58",
   "metadata": {},
   "outputs": [
    {
     "name": "stdout",
     "output_type": "stream",
     "text": [
      "[7, 14]\n"
     ]
    }
   ],
   "source": []
  },
  {
   "cell_type": "code",
   "execution_count": null,
   "id": "082ed8f3-9c55-4488-a6ed-af42f4660f66",
   "metadata": {},
   "outputs": [],
   "source": []
  },
  {
   "cell_type": "code",
   "execution_count": null,
   "id": "36349833-fc95-4489-80bd-692958470840",
   "metadata": {},
   "outputs": [],
   "source": []
  }
 ],
 "metadata": {
  "kernelspec": {
   "display_name": "Python 3 (ipykernel)",
   "language": "python",
   "name": "python3"
  },
  "language_info": {
   "codemirror_mode": {
    "name": "ipython",
    "version": 3
   },
   "file_extension": ".py",
   "mimetype": "text/x-python",
   "name": "python",
   "nbconvert_exporter": "python",
   "pygments_lexer": "ipython3",
   "version": "3.11.7"
  }
 },
 "nbformat": 4,
 "nbformat_minor": 5
}
