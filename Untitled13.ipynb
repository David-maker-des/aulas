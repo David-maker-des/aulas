{
 "cells": [
  {
   "cell_type": "code",
   "execution_count": 6,
   "id": "7b96f722-1429-4ea4-836a-944f0ad00385",
   "metadata": {},
   "outputs": [
    {
     "name": "stdout",
     "output_type": "stream",
     "text": [
      "0\n",
      "1\n",
      "1\n",
      "2\n",
      "3\n",
      "5\n",
      "the end\n"
     ]
    }
   ],
   "source": [
    "x = 0\n",
    "y = 1\n",
    "while x <= 5:\n",
    "    print(x)\n",
    "    print(y)\n",
    "    x = x + y\n",
    "    y = x + y\n",
    "else:\n",
    "    print('the end')"
   ]
  },
  {
   "cell_type": "code",
   "execution_count": 10,
   "id": "dfae4bd7-528b-463d-8856-d27ce9ef51f3",
   "metadata": {},
   "outputs": [
    {
     "data": {
      "text/plain": [
       "12"
      ]
     },
     "execution_count": 10,
     "metadata": {},
     "output_type": "execute_result"
    }
   ],
   "source": [
    "t = [1,2,3,4,5,6,7,8,9,10,11,12]\n",
    "len(t)"
   ]
  },
  {
   "cell_type": "code",
   "execution_count": 26,
   "id": "1c67698a-7c54-4bbf-b349-3841ff3d1bc5",
   "metadata": {},
   "outputs": [
    {
     "name": "stdout",
     "output_type": "stream",
     "text": [
      "{1, 2, 3, 4}\n"
     ]
    }
   ],
   "source": [
    "q = set()\n",
    "q.add(1)\n",
    "q.add(2)\n",
    "q.add(3)\n",
    "q.add(4)\n",
    "q.add(4)\n",
    "print(q)"
   ]
  },
  {
   "cell_type": "code",
   "execution_count": 11,
   "id": "50d0696a-ca50-431e-88c4-5ea912652695",
   "metadata": {},
   "outputs": [
    {
     "name": "stdout",
     "output_type": "stream",
     "text": [
      "1\n"
     ]
    }
   ],
   "source": [
    "print(t[0])"
   ]
  },
  {
   "cell_type": "code",
   "execution_count": 13,
   "id": "a6801b4c-e3c1-4b59-84af-71fc41edb4aa",
   "metadata": {},
   "outputs": [
    {
     "name": "stdout",
     "output_type": "stream",
     "text": [
      "[3, 4, 5, 6, 7]\n"
     ]
    }
   ],
   "source": [
    "print(t[2:7])"
   ]
  },
  {
   "cell_type": "code",
   "execution_count": 20,
   "id": "f794bcb1-0aae-44e3-b5ba-50c3046c07f1",
   "metadata": {},
   "outputs": [
    {
     "data": {
      "text/plain": [
       "0"
      ]
     },
     "execution_count": 20,
     "metadata": {},
     "output_type": "execute_result"
    }
   ],
   "source": [
    "t.index(1)"
   ]
  },
  {
   "cell_type": "code",
   "execution_count": 23,
   "id": "f8d4afe5-01bd-48d5-bdcb-d09f00979868",
   "metadata": {},
   "outputs": [
    {
     "name": "stdout",
     "output_type": "stream",
     "text": [
      "(1, 2, 3)\n",
      "[2, 4, 5, 6, 7, 8, 9, 10, 11, 12, 7, 7]\n"
     ]
    }
   ],
   "source": [
    "x = (1,2,3)\n",
    "t.append(7)\n",
    "t.pop(2)\n",
    "t.remove(1)\n",
    "print(x)\n",
    "print(t)"
   ]
  },
  {
   "cell_type": "code",
   "execution_count": 30,
   "id": "ba8b2e77-2141-4829-9bef-2a5dc61d536b",
   "metadata": {},
   "outputs": [
    {
     "name": "stdout",
     "output_type": "stream",
     "text": [
      "True False True True None\n"
     ]
    }
   ],
   "source": [
    "a = True\n",
    "b = False\n",
    "c = 3<100\n",
    "d = 1000>11\n",
    "e = None\n",
    "print(a,b,c,d,e)"
   ]
  },
  {
   "cell_type": "code",
   "execution_count": null,
   "id": "e0df5392-266d-4b25-9c48-ba7a63e64b9a",
   "metadata": {},
   "outputs": [],
   "source": [
    "dc = {'chave1';cha"
   ]
  }
 ],
 "metadata": {
  "kernelspec": {
   "display_name": "Python 3 (ipykernel)",
   "language": "python",
   "name": "python3"
  },
  "language_info": {
   "codemirror_mode": {
    "name": "ipython",
    "version": 3
   },
   "file_extension": ".py",
   "mimetype": "text/x-python",
   "name": "python",
   "nbconvert_exporter": "python",
   "pygments_lexer": "ipython3",
   "version": "3.11.7"
  }
 },
 "nbformat": 4,
 "nbformat_minor": 5
}
