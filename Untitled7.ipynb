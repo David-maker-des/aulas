{
 "cells": [
  {
   "cell_type": "code",
   "execution_count": 4,
   "id": "5a12ec49-5410-4338-b703-ed14811db0d8",
   "metadata": {},
   "outputs": [
    {
     "data": {
      "text/plain": [
       "False"
      ]
     },
     "execution_count": 4,
     "metadata": {},
     "output_type": "execute_result"
    }
   ],
   "source": [
    "x = 100\n",
    "y = 50\n",
    "y >= x"
   ]
  },
  {
   "cell_type": "code",
   "execution_count": 5,
   "id": "dd5ab86f-cfc5-491a-adfd-f35ee1ab7e8d",
   "metadata": {},
   "outputs": [
    {
     "data": {
      "text/plain": [
       "True"
      ]
     },
     "execution_count": 5,
     "metadata": {},
     "output_type": "execute_result"
    }
   ],
   "source": [
    "x >= y"
   ]
  },
  {
   "cell_type": "code",
   "execution_count": 6,
   "id": "9e43c452-9415-4415-aae3-bfc25f916102",
   "metadata": {},
   "outputs": [
    {
     "data": {
      "text/plain": [
       "True"
      ]
     },
     "execution_count": 6,
     "metadata": {},
     "output_type": "execute_result"
    }
   ],
   "source": [
    "x == y * 2"
   ]
  },
  {
   "cell_type": "code",
   "execution_count": 7,
   "id": "985d94b9-42a9-44aa-ac88-bf9c79b4bf4b",
   "metadata": {},
   "outputs": [
    {
     "data": {
      "text/plain": [
       "True"
      ]
     },
     "execution_count": 7,
     "metadata": {},
     "output_type": "execute_result"
    }
   ],
   "source": [
    "2 == 3 or 4 >= 4"
   ]
  },
  {
   "cell_type": "code",
   "execution_count": 30,
   "id": "ddf5ff4f-281b-4a03-9d95-64738333060d",
   "metadata": {},
   "outputs": [
    {
     "name": "stdout",
     "output_type": "stream",
     "text": [
      "reprovo seu burro\n"
     ]
    }
   ],
   "source": [
    "nota = 1\n",
    "if nota >= 6 :\n",
    "    print(\"aprovado\")\n",
    "elif 4 < nota < 6:\n",
    "    print(\"ficou de rec kkkk\")\n",
    "elif nota < 4:\n",
    "    print(\"reprovo seu burro\")"
   ]
  },
  {
   "cell_type": "code",
   "execution_count": 16,
   "id": "5406107c-ac7b-4812-a852-ddc6748879ab",
   "metadata": {},
   "outputs": [
    {
     "data": {
      "text/plain": [
       "True"
      ]
     },
     "execution_count": 16,
     "metadata": {},
     "output_type": "execute_result"
    }
   ],
   "source": []
  },
  {
   "cell_type": "code",
   "execution_count": 43,
   "id": "386b1b26-c4ff-46a7-92f4-9afa07eaa717",
   "metadata": {},
   "outputs": [
    {
     "name": "stdin",
     "output_type": "stream",
     "text": [
      "qual e o mes? -1\n"
     ]
    },
    {
     "name": "stdout",
     "output_type": "stream",
     "text": [
      "erro\n"
     ]
    }
   ],
   "source": [
    "h = int(input(\"qual e o mes?\"))\n",
    "if h == 1:\n",
    "    print(\"janeiro\")\n",
    "elif h == 2:\n",
    "    print(\"fevereiro\")\n",
    "elif h == 3:\n",
    "    print(\"março\")\n",
    "elif h == 4:\n",
    "    print(\"april\")\n",
    "elif h == 5:\n",
    "    print(\"maio\")\n",
    "elif h == 6:\n",
    "    print(\"junho\")\n",
    "elif h == 7:\n",
    "    print(\"julho\")\n",
    "elif h == 8:\n",
    "    print(\"agosto\")\n",
    "elif h == 9:\n",
    "    print(\"setembro\")\n",
    "elif h == 10:\n",
    "    print(\"outubro\")\n",
    "elif h == 11:\n",
    "    print(\"novembro\")\n",
    "elif h == 12:\n",
    "    print(\"dezembro\")\n",
    "else:\n",
    "    print(\"erro\")"
   ]
  },
  {
   "cell_type": "code",
   "execution_count": 49,
   "id": "3d58a02e-eaae-431a-90b2-76bcc3387449",
   "metadata": {},
   "outputs": [
    {
     "name": "stdin",
     "output_type": "stream",
     "text": [
      "codigo? 33\n",
      "quandos? 1\n"
     ]
    },
    {
     "name": "stdout",
     "output_type": "stream",
     "text": [
      "erro\n"
     ]
    }
   ],
   "source": [
    "u = int(input(\"codigo?\"))\n",
    "q = float(input(\"quandos?\"))\n",
    "if u == 1:\n",
    "    print(10*q)\n",
    "elif u == 2:\n",
    "    print(5*q)\n",
    "elif u == 3:\n",
    "    print(3*q)\n",
    "elif u == 4:\n",
    "    print(3.50*q)\n",
    "elif u == 5:\n",
    "    print(9*q)\n",
    "else:\n",
    "    print(\"erro\")"
   ]
  },
  {
   "cell_type": "code",
   "execution_count": 57,
   "id": "3c780381-38d7-4fa7-9f2a-5f57b3b6d952",
   "metadata": {},
   "outputs": [
    {
     "name": "stdin",
     "output_type": "stream",
     "text": [
      "codigo? -1\n"
     ]
    },
    {
     "name": "stdout",
     "output_type": "stream",
     "text": [
      "dormi mais!!!!\n"
     ]
    }
   ],
   "source": [
    "o = int(input(\"codigo?\"))\n",
    "if o == 5:\n",
    "    print(\"vc precisa dormi mais 3 horas\")\n",
    "elif o == 6:\n",
    "    print(\"vc precisa dormi mais 2 horas\")\n",
    "elif o == 7:\n",
    "    print(\"vc precisa dormi mais 1 hora\")\n",
    "elif o == 8:\n",
    "    print(\"vc ta certo\")\n",
    "elif o == 9:\n",
    "    print(\"vc dormiu um pouco maiis\")\n",
    "elif o <= 4:\n",
    "    print(\"dormi mais!!!!\")\n",
    "else:\n",
    "    print(\"vc dormiu de mais\")"
   ]
  },
  {
   "cell_type": "code",
   "execution_count": null,
   "id": "b5c8a2d8-ada8-42f5-ba10-6a5588d61319",
   "metadata": {},
   "outputs": [],
   "source": []
  }
 ],
 "metadata": {
  "kernelspec": {
   "display_name": "Python 3 (ipykernel)",
   "language": "python",
   "name": "python3"
  },
  "language_info": {
   "codemirror_mode": {
    "name": "ipython",
    "version": 3
   },
   "file_extension": ".py",
   "mimetype": "text/x-python",
   "name": "python",
   "nbconvert_exporter": "python",
   "pygments_lexer": "ipython3",
   "version": "3.11.7"
  }
 },
 "nbformat": 4,
 "nbformat_minor": 5
}
