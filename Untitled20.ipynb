{
 "cells": [
  {
   "cell_type": "code",
   "execution_count": null,
   "id": "033140c9-93e5-4970-bf5a-dc40754b6d8b",
   "metadata": {},
   "outputs": [],
   "source": [
    "numero = 1\n",
    "numero2 = range(1,51)\n",
    "i=0\n",
    "if numero < 50:\n",
    "    print('valor do numero',numero)\n",
    "    numero*=2\n",
    "    \n",
    "print(numero2)"
   ]
  },
  {
   "cell_type": "code",
   "execution_count": null,
   "id": "95468751-0042-4d75-9303-f78ddd4c62bd",
   "metadata": {},
   "outputs": [],
   "source": []
  },
  {
   "cell_type": "code",
   "execution_count": null,
   "id": "e6353062-4786-4b87-96f7-8870c572b397",
   "metadata": {},
   "outputs": [],
   "source": []
  }
 ],
 "metadata": {
  "kernelspec": {
   "display_name": "Python 3 (ipykernel)",
   "language": "python",
   "name": "python3"
  },
  "language_info": {
   "codemirror_mode": {
    "name": "ipython",
    "version": 3
   },
   "file_extension": ".py",
   "mimetype": "text/x-python",
   "name": "python",
   "nbconvert_exporter": "python",
   "pygments_lexer": "ipython3",
   "version": "3.11.7"
  }
 },
 "nbformat": 4,
 "nbformat_minor": 5
}
