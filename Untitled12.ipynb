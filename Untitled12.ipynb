{
 "cells": [
  {
   "cell_type": "code",
   "execution_count": 8,
   "id": "10f4c516-45ed-4394-bd37-ab72bec5af63",
   "metadata": {},
   "outputs": [
    {
     "name": "stdin",
     "output_type": "stream",
     "text": [
      "qual numero? 11\n",
      "qual numero? 11\n"
     ]
    },
    {
     "name": "stdout",
     "output_type": "stream",
     "text": [
      "11\n",
      "22\n",
      "33\n",
      "44\n",
      "55\n",
      "66\n",
      "77\n",
      "88\n",
      "99\n",
      "110\n",
      "121\n",
      "132\n",
      "143\n",
      "154\n",
      "165\n",
      "176\n",
      "187\n",
      "198\n",
      "209\n",
      "220\n",
      "231\n",
      "242\n",
      "253\n",
      "264\n",
      "275\n",
      "286\n",
      "297\n",
      "308\n",
      "319\n",
      "330\n",
      "341\n",
      "352\n",
      "363\n",
      "374\n",
      "385\n",
      "396\n",
      "407\n",
      "418\n",
      "429\n",
      "440\n",
      "451\n",
      "462\n",
      "473\n",
      "484\n",
      "495\n",
      "506\n",
      "517\n",
      "528\n",
      "539\n",
      "550\n",
      "561\n",
      "572\n",
      "583\n",
      "594\n",
      "605\n",
      "616\n",
      "627\n",
      "638\n",
      "649\n",
      "660\n",
      "671\n",
      "682\n",
      "693\n",
      "704\n",
      "715\n",
      "726\n",
      "737\n",
      "748\n",
      "759\n",
      "770\n",
      "781\n",
      "792\n",
      "803\n",
      "814\n",
      "825\n",
      "836\n",
      "847\n",
      "858\n",
      "869\n",
      "880\n",
      "891\n",
      "902\n",
      "913\n",
      "924\n",
      "935\n",
      "946\n",
      "957\n",
      "968\n",
      "979\n",
      "990\n",
      "the end\n"
     ]
    }
   ],
   "source": [
    "x = int(input('qual numero?'))\n",
    "y = int(input('qual numero?'))\n",
    "while x <= 1000:\n",
    "    print(x)\n",
    "    x = x + y\n",
    "else:\n",
    "    print('the end')"
   ]
  },
  {
   "cell_type": "code",
   "execution_count": 11,
   "id": "76f824b3-e695-4975-8148-b095c85c782e",
   "metadata": {},
   "outputs": [
    {
     "name": "stdin",
     "output_type": "stream",
     "text": [
      "qual numero? 0\n",
      "qual numero? 1\n"
     ]
    },
    {
     "name": "stdout",
     "output_type": "stream",
     "text": [
      "the end\n"
     ]
    }
   ],
   "source": [
    "x = int(input('qual numero?'))\n",
    "y = int(input('qual numero?'))\n",
    "while x <= 100:\n",
    "    print(x)\n",
    "    x = x + y\n",
    "else:\n",
    "    print('the end')"
   ]
  },
  {
   "cell_type": "code",
   "execution_count": 23,
   "id": "65ba1e92-802b-4883-beed-2e8b423e43ba",
   "metadata": {},
   "outputs": [
    {
     "name": "stdin",
     "output_type": "stream",
     "text": [
      "numero 23\n",
      "numero 532\n",
      "numero 643\n",
      "numero 74\n",
      "numero 463\n",
      "numero 412\n",
      "numero 865\n",
      "numero 52\n",
      "numero 956\n",
      "numero 453\n"
     ]
    },
    {
     "name": "stdout",
     "output_type": "stream",
     "text": [
      "956\n"
     ]
    }
   ],
   "source": [
    "s = []\n",
    "for h in range(1,11):\n",
    "    z = int(input('numero'))\n",
    "    s.append(z)\n",
    "d = sorted(s)\n",
    "print(d[-1])"
   ]
  },
  {
   "cell_type": "code",
   "execution_count": null,
   "id": "7c134e5d-612c-4a40-b6d4-4f3b1a06110a",
   "metadata": {},
   "outputs": [],
   "source": []
  }
 ],
 "metadata": {
  "kernelspec": {
   "display_name": "Python 3 (ipykernel)",
   "language": "python",
   "name": "python3"
  },
  "language_info": {
   "codemirror_mode": {
    "name": "ipython",
    "version": 3
   },
   "file_extension": ".py",
   "mimetype": "text/x-python",
   "name": "python",
   "nbconvert_exporter": "python",
   "pygments_lexer": "ipython3",
   "version": "3.11.7"
  }
 },
 "nbformat": 4,
 "nbformat_minor": 5
}
