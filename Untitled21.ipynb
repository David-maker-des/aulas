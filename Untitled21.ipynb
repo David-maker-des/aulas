{
 "cells": [
  {
   "cell_type": "code",
   "execution_count": 12,
   "id": "49751e6b-03f3-4304-bbb1-973d61480cbb",
   "metadata": {},
   "outputs": [
    {
     "name": "stdout",
     "output_type": "stream",
     "text": [
      "N[0] = 48\n",
      "N[1] = 96\n",
      "N[3] = 192\n"
     ]
    }
   ],
   "source": [
    "numero = 48\n",
    "numero2 = range(1,51)\n",
    "i=0\n",
    "if numero < 50:\n",
    "    print('N[0] =',numero)\n",
    "    numero*=2\n",
    "print(\"N[1] =\",numero)\n",
    "if numero < 1000:\n",
    "    numero*=2\n",
    "print(\"N[2] =\",numero)\n",
    "print(\"N[3] =\",numero * 2)"
   ]
  },
  {
   "cell_type": "code",
   "execution_count": null,
   "id": "a0ad5d6f-ec9b-498a-ae7c-958a4765cfd7",
   "metadata": {},
   "outputs": [],
   "source": []
  }
 ],
 "metadata": {
  "kernelspec": {
   "display_name": "Python 3 (ipykernel)",
   "language": "python",
   "name": "python3"
  },
  "language_info": {
   "codemirror_mode": {
    "name": "ipython",
    "version": 3
   },
   "file_extension": ".py",
   "mimetype": "text/x-python",
   "name": "python",
   "nbconvert_exporter": "python",
   "pygments_lexer": "ipython3",
   "version": "3.11.7"
  }
 },
 "nbformat": 4,
 "nbformat_minor": 5
}
